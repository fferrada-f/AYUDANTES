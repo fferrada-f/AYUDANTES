{
 "cells": [
  {
   "cell_type": "markdown",
   "metadata": {
    "colab_type": "text",
    "id": "SmVrFWWNE-ck"
   },
   "source": [
    "# Laboratorio Investigación de Operaciones\n",
    "Basada en la ayudantía de Machine Learning, Anthony Cho.\n",
    "\n",
    "#### Ayudante: Francisco Ferrada\n",
    "\n",
    "**Tema**: Introduccion a Python "
   ]
  },
  {
   "cell_type": "markdown",
   "metadata": {
    "colab_type": "text",
    "id": "B9e3zAREE-cm"
   },
   "source": [
    "#### Asignacion de variables"
   ]
  },
  {
   "cell_type": "code",
   "execution_count": 13,
   "metadata": {
    "colab": {
     "base_uri": "https://localhost:8080/",
     "height": 126
    },
    "colab_type": "code",
    "id": "JGZyA5ffE-co",
    "outputId": "8d3945b1-b955-461e-9109-56b301cd8cbc"
   },
   "outputs": [
    {
     "name": "stdout",
     "output_type": "stream",
     "text": [
      "1\n",
      "hola\n",
      "1.0\n",
      "<class 'int'>\n",
      "<class 'str'>\n",
      "<class 'float'>\n"
     ]
    }
   ],
   "source": [
    "a = 1\n",
    "b = 'hola'\n",
    "c = 1.0\n",
    "## Imprimir las variables\n",
    "print(a)\n",
    "print(b)\n",
    "print(c)\n",
    "## Imprimir tipo de dato almacenado en la variable\n",
    "print( type(a) )\n",
    "print( type(b) )\n",
    "print( type(c) )"
   ]
  },
  {
   "cell_type": "markdown",
   "metadata": {
    "colab_type": "text",
    "id": "O94swP4OE-c1"
   },
   "source": [
    "### Algunas operaciones basicas"
   ]
  },
  {
   "cell_type": "code",
   "execution_count": 3,
   "metadata": {
    "colab": {
     "base_uri": "https://localhost:8080/",
     "height": 90
    },
    "colab_type": "code",
    "id": "600vgTg9E-c3",
    "outputId": "e88d2820-61b2-46ea-d02d-c316ab8fc3d8",
    "scrolled": true
   },
   "outputs": [
    {
     "name": "stdout",
     "output_type": "stream",
     "text": [
      "11\n",
      "1\n",
      "10\n",
      "1.0\n"
     ]
    },
    {
     "data": {
      "text/plain": [
       "float"
      ]
     },
     "execution_count": 3,
     "metadata": {},
     "output_type": "execute_result"
    }
   ],
   "source": [
    "## Suma\n",
    "a = a+10\n",
    "#a +=10\n",
    "print(a)\n",
    "\n",
    "## Resta\n",
    "a = a-10\n",
    "#a-=10\n",
    "print(a)\n",
    "\n",
    "## Multiplicacion\n",
    "a = a*10\n",
    "#a*=10\n",
    "print(a)\n",
    "\n",
    "## Division\n",
    "a = a/10\n",
    "#a/=10\n",
    "print(a)\n",
    "type(a)"
   ]
  },
  {
   "cell_type": "markdown",
   "metadata": {
    "colab_type": "text",
    "id": "gr3jIwAoE-c-"
   },
   "source": [
    "### Listas\n",
    "Recordar que las listas solo son un conjunto de elementos agrupados, pueden tener distinto tipo de dato alojado en una misma lista. Incluso listas adentro de la lista."
   ]
  },
  {
   "cell_type": "code",
   "execution_count": 16,
   "metadata": {},
   "outputs": [
    {
     "name": "stdout",
     "output_type": "stream",
     "text": [
      "perro\n",
      "24\n",
      "False\n"
     ]
    }
   ],
   "source": [
    "lista_nueva = ['perro', 24, False]\n",
    "lista_nueva\n",
    "for i in lista_nueva:\n",
    "    print(i)"
   ]
  },
  {
   "cell_type": "code",
   "execution_count": 3,
   "metadata": {
    "colab": {},
    "colab_type": "code",
    "id": "p8p5tGjcE-c_"
   },
   "outputs": [],
   "source": [
    "# Crear lista\n",
    "eventos = ['dormir', 'comer', 'correr', 'escapar',['lista','en','lista']]\n",
    "cualquierCosa = ['Modelo', 'PQC', 1500000]\n",
    "lista = [1,4,2,5,6,7,8,9,0,5,3,2]"
   ]
  },
  {
   "cell_type": "code",
   "execution_count": 4,
   "metadata": {
    "colab": {
     "base_uri": "https://localhost:8080/",
     "height": 35
    },
    "colab_type": "code",
    "id": "d1ECaqrxE-dH",
    "outputId": "e542385a-4000-491c-c4fc-5d9f2bae30fb"
   },
   "outputs": [
    {
     "name": "stdout",
     "output_type": "stream",
     "text": [
      "eventos:  ['dormir', 'comer', 'correr', 'escapar', ['lista', 'en', 'lista']]\n"
     ]
    }
   ],
   "source": [
    "# Imprimir una lista\n",
    "print('eventos: ', eventos)"
   ]
  },
  {
   "cell_type": "code",
   "execution_count": 7,
   "metadata": {
    "colab": {
     "base_uri": "https://localhost:8080/",
     "height": 53
    },
    "colab_type": "code",
    "id": "zLqyvGO1E-dN",
    "outputId": "10ab9bb8-929d-45b5-c733-a10b6e8ad533"
   },
   "outputs": [
    {
     "name": "stdout",
     "output_type": "stream",
     "text": [
      "cualquierCosa:\n",
      "['Modelo', 'PQC', 1500000]\n"
     ]
    }
   ],
   "source": [
    "# Imprimir las dos listas en forma simple\n",
    "print(f'cualquierCosa:\\n{cualquierCosa}')"
   ]
  },
  {
   "cell_type": "code",
   "execution_count": 6,
   "metadata": {
    "colab": {
     "base_uri": "https://localhost:8080/",
     "height": 53
    },
    "colab_type": "code",
    "id": "bA3jQPETE-dX",
    "outputId": "6337eb6d-536b-49fe-d884-1341bfc95373"
   },
   "outputs": [
    {
     "name": "stdout",
     "output_type": "stream",
     "text": [
      "Lista 1: ['dormir', 'comer', 'correr', 'escapar', ['lista', 'en', 'lista']]\n",
      "Lista 2: ['Modelo', 'PQC', 1500000]\n"
     ]
    }
   ],
   "source": [
    "# Imprimir las dos listas en un formato personalizado\n",
    "print('Lista 1: {}\\nLista 2: {}'.format(eventos, cualquierCosa))"
   ]
  },
  {
   "cell_type": "markdown",
   "metadata": {
    "colab_type": "text",
    "id": "3d47RgplE-db"
   },
   "source": [
    "#### Algunas operaciones con listas"
   ]
  },
  {
   "cell_type": "code",
   "execution_count": 8,
   "metadata": {
    "colab": {
     "base_uri": "https://localhost:8080/",
     "height": 35
    },
    "colab_type": "code",
    "id": "BPWaCtjlE-dd",
    "outputId": "813bbd6b-27f5-434f-f253-37576499ff35"
   },
   "outputs": [
    {
     "name": "stdout",
     "output_type": "stream",
     "text": [
      "lista:  [1, 4, 2, 5, 6, 7, 8, 9, 0, 5, 3, 2, 100]\n"
     ]
    }
   ],
   "source": [
    "# Adjuntar al final de la lista un elemento\n",
    "lista.append(100)\n",
    "print('lista: ', lista)"
   ]
  },
  {
   "cell_type": "code",
   "execution_count": 9,
   "metadata": {
    "colab": {
     "base_uri": "https://localhost:8080/",
     "height": 35
    },
    "colab_type": "code",
    "id": "wsopNzq9E-di",
    "outputId": "b8047731-0047-4db2-c6b9-005b74f59df4"
   },
   "outputs": [
    {
     "name": "stdout",
     "output_type": "stream",
     "text": [
      "lista:  [1, 4, 2, 5, 6, 7, 8, 9, 0, 5, 3, 2, 100, ['lista', 'en', 'lista']]\n"
     ]
    }
   ],
   "source": [
    "# Adjuntar una lista a otra lista como un elemento\n",
    "lista.append(eventos[4])\n",
    "print('lista: ', lista)"
   ]
  },
  {
   "cell_type": "code",
   "execution_count": 11,
   "metadata": {
    "colab": {
     "base_uri": "https://localhost:8080/",
     "height": 35
    },
    "colab_type": "code",
    "id": "0LzP2TRWE-do",
    "outputId": "a5dff36d-ba44-4939-b358-1c087009c988"
   },
   "outputs": [
    {
     "name": "stdout",
     "output_type": "stream",
     "text": [
      "lista:  [1, 4, 2, 5, 6, 7, 8, 9, 0, 5, 3, 2, 3, 523, 5, 9, 6]\n"
     ]
    }
   ],
   "source": [
    "# Extender una lista con los elementos de otra lista\n",
    "lista = [1,4,2,5,6,7,8,9,0,5,3,2]\n",
    "lista2 = [3,523,5,9,6]\n",
    "\n",
    "lista.extend(lista2)\n",
    "print('lista: ', lista)"
   ]
  },
  {
   "cell_type": "code",
   "execution_count": 12,
   "metadata": {
    "colab": {
     "base_uri": "https://localhost:8080/",
     "height": 35
    },
    "colab_type": "code",
    "id": "p5lMUMG-E-du",
    "outputId": "87db5b95-0cda-4588-b6e0-7671d631af00"
   },
   "outputs": [
    {
     "data": {
      "text/plain": [
       "5"
      ]
     },
     "execution_count": 12,
     "metadata": {
      "tags": []
     },
     "output_type": "execute_result"
    }
   ],
   "source": [
    "# Consultar posicion del primer elemento que coincida con el numero 7 en la lista\n",
    "lista.index(7)"
   ]
  },
  {
   "cell_type": "code",
   "execution_count": 13,
   "metadata": {
    "colab": {
     "base_uri": "https://localhost:8080/",
     "height": 35
    },
    "colab_type": "code",
    "id": "5vKqELAKE-dz",
    "outputId": "5b71bb50-3983-4119-8edd-edbed884cfd3"
   },
   "outputs": [
    {
     "data": {
      "text/plain": [
       "1"
      ]
     },
     "execution_count": 13,
     "metadata": {
      "tags": []
     },
     "output_type": "execute_result"
    }
   ],
   "source": [
    "# Contar cuantas repeticiones hay del numero 8 en la lista\n",
    "lista.count(8)"
   ]
  },
  {
   "cell_type": "code",
   "execution_count": 14,
   "metadata": {
    "colab": {
     "base_uri": "https://localhost:8080/",
     "height": 35
    },
    "colab_type": "code",
    "id": "rg9zUTknE-d4",
    "outputId": "a9f0ae4e-a4f0-4f15-fc82-97f131f378ba"
   },
   "outputs": [
    {
     "name": "stdout",
     "output_type": "stream",
     "text": [
      "[1, 4, 2, 100, 5, 6, 7, 8, 9, 0, 5, 3, 2, 3, 523, 5, 9, 6]\n"
     ]
    }
   ],
   "source": [
    "# Insertar el elemento 100 en el indice 3 de la lista\n",
    "lista.insert(3, 100)\n",
    "print(lista)"
   ]
  },
  {
   "cell_type": "code",
   "execution_count": 15,
   "metadata": {
    "colab": {
     "base_uri": "https://localhost:8080/",
     "height": 35
    },
    "colab_type": "code",
    "id": "_IEa2xAFE-d-",
    "outputId": "0649aa48-a136-4103-cdb1-12c609e2c02a"
   },
   "outputs": [
    {
     "name": "stdout",
     "output_type": "stream",
     "text": [
      "[1, 4, 100, 5, 6, 7, 8, 9, 0, 5, 3, 2, 3, 523, 5, 9, 6]\n"
     ]
    }
   ],
   "source": [
    "# Remover la primera aparicion en la lista que coincida con el numero 2.\n",
    "lista.remove(2)\n",
    "print(lista)"
   ]
  },
  {
   "cell_type": "code",
   "execution_count": 16,
   "metadata": {
    "colab": {
     "base_uri": "https://localhost:8080/",
     "height": 35
    },
    "colab_type": "code",
    "id": "dOrUILf6E-eC",
    "outputId": "ada5c17f-2e25-41d0-c052-84c76678eb3f"
   },
   "outputs": [
    {
     "name": "stdout",
     "output_type": "stream",
     "text": [
      "[1, 4, 100, 5, 6, 7, 8, 9, 0, 5, 3, 2, 3, 523, 5, 9]\n"
     ]
    }
   ],
   "source": [
    "# Eliminar el ultimo elemento de la lista\n",
    "lista.pop()\n",
    "print(lista)"
   ]
  },
  {
   "cell_type": "code",
   "execution_count": 17,
   "metadata": {
    "colab": {
     "base_uri": "https://localhost:8080/",
     "height": 35
    },
    "colab_type": "code",
    "id": "XmgMwHDDE-eH",
    "outputId": "12ea6bda-e516-4fbf-bf95-dc78549d8df2"
   },
   "outputs": [
    {
     "name": "stdout",
     "output_type": "stream",
     "text": [
      "[1, 4, 5, 6, 7, 8, 9, 0, 5, 3, 2, 3, 523, 5, 9]\n"
     ]
    }
   ],
   "source": [
    "# Eliminar el elemento localizado en el indice 2 de la lista\n",
    "lista.pop(2)\n",
    "print(lista)"
   ]
  },
  {
   "cell_type": "markdown",
   "metadata": {
    "colab_type": "text",
    "id": "9-itNWOyE-eM"
   },
   "source": [
    "### Diccionarios"
   ]
  },
  {
   "cell_type": "code",
   "execution_count": 18,
   "metadata": {
    "colab": {
     "base_uri": "https://localhost:8080/",
     "height": 72
    },
    "colab_type": "code",
    "id": "SOxb-6QgE-eM",
    "outputId": "b032b3ad-f75a-4347-83aa-33675c9a0a3c"
   },
   "outputs": [
    {
     "data": {
      "text/plain": [
       "{'Almuerzo': 100,\n",
       " 'Cena': {'Heavy': 120, 'Intermedio': 60, 'Suave': 40},\n",
       " 'Desayuno': 50}"
      ]
     },
     "execution_count": 18,
     "metadata": {
      "tags": []
     },
     "output_type": "execute_result"
    }
   ],
   "source": [
    "# Crear un diccionario\n",
    "costos = {'Desayuno': 50, \n",
    "          'Almuerzo': 100,\n",
    "          'Cena': {'Suave': 40, \n",
    "                   'Intermedio': 60, \n",
    "                   'Heavy': 120}\n",
    "          }\n",
    "costos"
   ]
  },
  {
   "cell_type": "code",
   "execution_count": 19,
   "metadata": {
    "colab": {
     "base_uri": "https://localhost:8080/",
     "height": 35
    },
    "colab_type": "code",
    "id": "CUcQcBtTE-eQ",
    "outputId": "2c1af3e3-4d7b-400e-b848-82ba2ebbd0ae"
   },
   "outputs": [
    {
     "data": {
      "text/plain": [
       "dict_keys(['Desayuno', 'Almuerzo', 'Cena'])"
      ]
     },
     "execution_count": 19,
     "metadata": {
      "tags": []
     },
     "output_type": "execute_result"
    }
   ],
   "source": [
    "##Visualizar las llaves de un diccionario\n",
    "costos.keys()"
   ]
  },
  {
   "cell_type": "code",
   "execution_count": 20,
   "metadata": {
    "colab": {
     "base_uri": "https://localhost:8080/",
     "height": 35
    },
    "colab_type": "code",
    "id": "QWpKudzdE-eV",
    "outputId": "43e08896-ff07-42d4-eec8-46aa66f8d45b"
   },
   "outputs": [
    {
     "data": {
      "text/plain": [
       "dict_keys(['Suave', 'Intermedio', 'Heavy'])"
      ]
     },
     "execution_count": 20,
     "metadata": {
      "tags": []
     },
     "output_type": "execute_result"
    }
   ],
   "source": [
    "## Visualizar las llaves del diccionario 'Cena', el cual se encuentra al interior del diccionario 'costos'\n",
    "costos['Cena'].keys()"
   ]
  },
  {
   "cell_type": "code",
   "execution_count": 21,
   "metadata": {
    "colab": {
     "base_uri": "https://localhost:8080/",
     "height": 35
    },
    "colab_type": "code",
    "id": "8VJVZxthE-eY",
    "outputId": "1c780bf4-c5bf-4ba7-f83f-e92370779b52"
   },
   "outputs": [
    {
     "name": "stdout",
     "output_type": "stream",
     "text": [
      "{'Nombre': 'Francisco', 'telefono': '+56900000001', 'email': 'fco@pmail.com', 'Ayudante': ['Python', 'Laboratorio de IO']}\n"
     ]
    }
   ],
   "source": [
    "contacto = {}\n",
    "contacto['Nombre'] = 'Francisco'\n",
    "contacto['telefono'] = '+56900000001'\n",
    "contacto['email'] = 'fco@pmail.com'\n",
    "contacto['Ayudante'] = ['Python', 'Laboratorio de IO']\n",
    "\n",
    "print(contacto)"
   ]
  },
  {
   "cell_type": "code",
   "execution_count": 22,
   "metadata": {
    "colab": {
     "base_uri": "https://localhost:8080/",
     "height": 35
    },
    "colab_type": "code",
    "id": "-raczVcfE-ec",
    "outputId": "55beea1f-be15-42ae-95a6-a3304390f46e"
   },
   "outputs": [
    {
     "data": {
      "text/plain": [
       "50"
      ]
     },
     "execution_count": 22,
     "metadata": {
      "tags": []
     },
     "output_type": "execute_result"
    }
   ],
   "source": [
    "# Acceso a elemento del diccionario\n",
    "costos['Desayuno']"
   ]
  },
  {
   "cell_type": "code",
   "execution_count": 23,
   "metadata": {
    "colab": {
     "base_uri": "https://localhost:8080/",
     "height": 35
    },
    "colab_type": "code",
    "id": "pbsu0guBE-ei",
    "outputId": "12e376d3-853c-493b-ad88-3c7afd7af252"
   },
   "outputs": [
    {
     "data": {
      "text/plain": [
       "{'Heavy': 120, 'Intermedio': 60, 'Suave': 40}"
      ]
     },
     "execution_count": 23,
     "metadata": {
      "tags": []
     },
     "output_type": "execute_result"
    }
   ],
   "source": [
    "costos['Cena']"
   ]
  },
  {
   "cell_type": "code",
   "execution_count": 24,
   "metadata": {
    "colab": {
     "base_uri": "https://localhost:8080/",
     "height": 35
    },
    "colab_type": "code",
    "id": "LO91tAb9E-en",
    "outputId": "ef3cc851-a205-4c73-a6ac-0ad41793024a"
   },
   "outputs": [
    {
     "data": {
      "text/plain": [
       "40"
      ]
     },
     "execution_count": 24,
     "metadata": {
      "tags": []
     },
     "output_type": "execute_result"
    }
   ],
   "source": [
    "costos['Cena']['Suave']"
   ]
  },
  {
   "cell_type": "markdown",
   "metadata": {
    "colab_type": "text",
    "id": "ojOOUtGGE-eq"
   },
   "source": [
    "### Condicional IF, IF-ELSE, IF-ELIF-...ELIF-ELSE"
   ]
  },
  {
   "cell_type": "code",
   "execution_count": 25,
   "metadata": {
    "colab": {
     "base_uri": "https://localhost:8080/",
     "height": 35
    },
    "colab_type": "code",
    "id": "UzBNuwVcE-eq",
    "outputId": "18040744-dead-4308-810b-280fbada7f95"
   },
   "outputs": [
    {
     "name": "stdout",
     "output_type": "stream",
     "text": [
      "Valor de a: 20\n"
     ]
    }
   ],
   "source": [
    "a = 20\n",
    "print('Valor de a: {}'.format(a))"
   ]
  },
  {
   "cell_type": "code",
   "execution_count": 26,
   "metadata": {
    "colab": {
     "base_uri": "https://localhost:8080/",
     "height": 35
    },
    "colab_type": "code",
    "id": "5UHSRIPqE-ev",
    "outputId": "759532d5-cf5c-4221-b4ca-9aa9717a884b"
   },
   "outputs": [
    {
     "name": "stdout",
     "output_type": "stream",
     "text": [
      "El valor de a es menor que 30\n"
     ]
    }
   ],
   "source": [
    "## Uso de un solo IF\n",
    "if a <30:\n",
    "    print(\"El valor de a es menor que 30\")"
   ]
  },
  {
   "cell_type": "code",
   "execution_count": 27,
   "metadata": {
    "colab": {
     "base_uri": "https://localhost:8080/",
     "height": 35
    },
    "colab_type": "code",
    "id": "4MSpBQ69E-ez",
    "outputId": "137cc6f8-2d13-40b0-b796-1c6407f8276e"
   },
   "outputs": [
    {
     "name": "stdout",
     "output_type": "stream",
     "text": [
      "El valor de a es mayor o igual que 10\n"
     ]
    }
   ],
   "source": [
    "## Uso del IF-ELSE\n",
    "if a < 10:\n",
    "    print(\"El valor de a es menor que 10\")\n",
    "else:\n",
    "    print(\"El valor de a es mayor o igual que 10\")"
   ]
  },
  {
   "cell_type": "code",
   "execution_count": 28,
   "metadata": {
    "colab": {
     "base_uri": "https://localhost:8080/",
     "height": 35
    },
    "colab_type": "code",
    "id": "mmqR72UvE-e7",
    "outputId": "7ccaece6-e672-4f2f-e817-eedc77114a27"
   },
   "outputs": [
    {
     "name": "stdout",
     "output_type": "stream",
     "text": [
      "El valor de a es mayor o igual que 20\n"
     ]
    }
   ],
   "source": [
    "## Uso del IF-ELSE anidados\n",
    "if a < 10:\n",
    "    print(\"El valor de a es menor que 10\")\n",
    "else:\n",
    "    if a < 20:\n",
    "        print(\"El valor de a es menor que 20\")\n",
    "    else:\n",
    "        print(\"El valor de a es mayor o igual que 20\")\n"
   ]
  },
  {
   "cell_type": "code",
   "execution_count": 29,
   "metadata": {
    "colab": {
     "base_uri": "https://localhost:8080/",
     "height": 35
    },
    "colab_type": "code",
    "id": "7udLYBSSE-e-",
    "outputId": "e6673ee2-d5f4-4db8-c07d-805ccd099947"
   },
   "outputs": [
    {
     "name": "stdout",
     "output_type": "stream",
     "text": [
      "El valor de a es mayor o igual que 20\n"
     ]
    }
   ],
   "source": [
    "## Uso del IF-ELIF-ELSE\n",
    "if a < 10:\n",
    "    print(\"El valor de a es menor que 10\")\n",
    "elif a < 20:\n",
    "    print(\"El valor de a es menor que 20\")\n",
    "else:\n",
    "    print(\"El valor de a es mayor o igual que 20\")\n"
   ]
  },
  {
   "cell_type": "markdown",
   "metadata": {
    "colab_type": "text",
    "id": "q1TTPSJcE-fC"
   },
   "source": [
    "### Bucles"
   ]
  },
  {
   "cell_type": "code",
   "execution_count": 30,
   "metadata": {
    "colab": {
     "base_uri": "https://localhost:8080/",
     "height": 53
    },
    "colab_type": "code",
    "id": "JMUbJvE0E-fD",
    "outputId": "708a7ee0-37f4-4f75-d54b-09bf4cda89b0"
   },
   "outputs": [
    {
     "name": "stdout",
     "output_type": "stream",
     "text": [
      "['dormir', 'comer', 'correr', 'escapar', ['lista', 'en', 'lista']]\n"
     ]
    },
    {
     "data": {
      "text/plain": [
       "5"
      ]
     },
     "execution_count": 30,
     "metadata": {
      "tags": []
     },
     "output_type": "execute_result"
    }
   ],
   "source": [
    "## Calcular el tamaño de la lista\n",
    "print(eventos)\n",
    "N = len(eventos)\n",
    "N"
   ]
  },
  {
   "cell_type": "code",
   "execution_count": 31,
   "metadata": {
    "colab": {
     "base_uri": "https://localhost:8080/",
     "height": 108
    },
    "colab_type": "code",
    "id": "J-_P6nniE-fF",
    "outputId": "a6fb893c-4870-4b65-bf77-9c3a654eb978"
   },
   "outputs": [
    {
     "name": "stdout",
     "output_type": "stream",
     "text": [
      "dormir\n",
      "comer\n",
      "correr\n",
      "escapar\n",
      "['lista', 'en', 'lista']\n"
     ]
    }
   ],
   "source": [
    "## uso del for por elemento\n",
    "for itera in eventos:\n",
    "    print(itera)"
   ]
  },
  {
   "cell_type": "code",
   "execution_count": 32,
   "metadata": {
    "colab": {
     "base_uri": "https://localhost:8080/",
     "height": 199
    },
    "colab_type": "code",
    "id": "b7EjN37YE-fJ",
    "outputId": "400903f4-337e-482c-e89e-3b94c955d9e2"
   },
   "outputs": [
    {
     "name": "stdout",
     "output_type": "stream",
     "text": [
      "0\n",
      "1\n",
      "2\n",
      "3\n",
      "4\n",
      "5\n",
      "6\n",
      "7\n",
      "8\n",
      "9\n"
     ]
    }
   ],
   "source": [
    "j = range(10)\n",
    "for i in j:\n",
    "    print(i)"
   ]
  },
  {
   "cell_type": "code",
   "execution_count": 33,
   "metadata": {
    "colab": {
     "base_uri": "https://localhost:8080/",
     "height": 108
    },
    "colab_type": "code",
    "id": "DG-4w5SGE-fM",
    "outputId": "fb0e551f-6718-4385-bef9-3d56b918980b",
    "scrolled": true
   },
   "outputs": [
    {
     "name": "stdout",
     "output_type": "stream",
     "text": [
      "dormir\n",
      "comer\n",
      "correr\n",
      "escapar\n",
      "['lista', 'en', 'lista']\n"
     ]
    }
   ],
   "source": [
    "## Uso del for por indice\n",
    "for i in range(N):\n",
    "    print(eventos[i])"
   ]
  },
  {
   "cell_type": "code",
   "execution_count": 34,
   "metadata": {
    "colab": {
     "base_uri": "https://localhost:8080/",
     "height": 108
    },
    "colab_type": "code",
    "id": "Rm2987CkE-fP",
    "outputId": "dc66462b-f987-4794-ea31-8efc7484ee2d"
   },
   "outputs": [
    {
     "name": "stdout",
     "output_type": "stream",
     "text": [
      "dormir\n",
      "comer\n",
      "correr\n",
      "escapar\n",
      "['lista', 'en', 'lista']\n"
     ]
    }
   ],
   "source": [
    "## Uso del while\n",
    "i = 0\n",
    "while i<N:\n",
    "    print(eventos[i])\n",
    "    \n",
    "    ## Aumentar el indice una unidad\n",
    "    i = i+1"
   ]
  },
  {
   "cell_type": "markdown",
   "metadata": {
    "colab_type": "text",
    "id": "L4WagrWME-fS"
   },
   "source": [
    "### Crear una funcion personalizada"
   ]
  },
  {
   "cell_type": "code",
   "execution_count": 36,
   "metadata": {
    "colab": {},
    "colab_type": "code",
    "id": "-GqMEoWEE-fT"
   },
   "outputs": [],
   "source": [
    "def Mi_funcion(a1,b1):\n",
    "    if type(a1) == list and type(b1) == list:\n",
    "        print(f'Dado que son listas, el largo del elemento resultante es: {len(a1)+len(b1)}')\n",
    "        return a1+b1\n",
    "    if type(a1) == np.ndarray and type(b1) == np.ndarray:\n",
    "        if len(a1) != len(b1):\n",
    "            print('La operacion no es factible por problemas de dimensionalidad.')\n",
    "        else:\n",
    "            print(f'Dado que son arreglos, el largo del elemento resultante es: {max(len(a1),len(b1))}')\n",
    "            return a1+b1\n",
    "    if (type(a1) == np.ndarray and type(b1) != np.ndarray) or (type(a1) == list and type(b1) != list):\n",
    "        print('La operacion no puede ser realizada, ya que los elementos no coinciden en su naturaleza.')"
   ]
  },
  {
   "cell_type": "code",
   "execution_count": 37,
   "metadata": {
    "colab": {
     "base_uri": "https://localhost:8080/",
     "height": 53
    },
    "colab_type": "code",
    "id": "udHRpd_WE-fX",
    "outputId": "299b8554-bbd0-4048-e136-ed0709cc4096"
   },
   "outputs": [
    {
     "name": "stdout",
     "output_type": "stream",
     "text": [
      "Dado que son listas, el largo del elemento resultante es: 6\n"
     ]
    },
    {
     "data": {
      "text/plain": [
       "[1, 2, 3, 4, 5, 6]"
      ]
     },
     "execution_count": 37,
     "metadata": {
      "tags": []
     },
     "output_type": "execute_result"
    }
   ],
   "source": [
    "k = [1,2,3]\n",
    "l = [4,5,6]\n",
    "Mi_funcion(k,l)"
   ]
  },
  {
   "cell_type": "markdown",
   "metadata": {
    "colab_type": "text",
    "id": "qt2QOdSsE-fb"
   },
   "source": [
    "### Cargar una libreria completa\n",
    "En este escenario solo utilizaremos la libreria numpy, la cual es útil para desarrollar operaciones matematicas con arreglos y/o matrices.\n",
    "La sintaxis de importación considera lo siguiente:\n",
    "import numpy as np\n",
    "Importa la librería \"numpy\" con el nombre np.\n",
    "\n",
    "Esto es útil cuando queramos llamar a las funciones de las librerías, ya que siempre tendremos que poner el nombre de la librería antes de la funcion que queramos llamar que esté al interior de esta.\n",
    "\n",
    "Las librerias que comunmente ocuparemos en el curso son:"
   ]
  },
  {
   "cell_type": "markdown",
   "metadata": {
    "colab_type": "raw",
    "id": "UbvtSz1kE-fc"
   },
   "source": [
    "`import numpy as np`    Principalmente para desarrollar operaciones matematicas.\n",
    "\n",
    "`import matplotlib.pyplot as plt`    Para crear gráficos.\n",
    "\n",
    "`import pandas as pd`      Para realizar lectura de datos e importar data.\n"
   ]
  },
  {
   "cell_type": "markdown",
   "metadata": {
    "colab_type": "text",
    "id": "YQ5YZomAPeBp"
   },
   "source": [
    "### Cargar una funcion especifica de una libreria\n",
    "En el caso en que necesitemos importar una función específica de una librería, se puede hacer con la siguiente sintaxis:\n",
    "\n",
    "\n",
    "\n",
    "```\n",
    "from libreria import funcion\n",
    "```\n",
    "Ejemplo: \n",
    "```\n",
    "from numpy import linspace\n",
    "```\n",
    "\n"
   ]
  },
  {
   "cell_type": "code",
   "execution_count": 4,
   "metadata": {
    "colab": {},
    "colab_type": "code",
    "id": "PhoRJhm7E-fc"
   },
   "outputs": [],
   "source": [
    "import numpy as np"
   ]
  },
  {
   "cell_type": "code",
   "execution_count": 41,
   "metadata": {
    "colab": {
     "base_uri": "https://localhost:8080/",
     "height": 53
    },
    "colab_type": "code",
    "id": "WK7ArbBBE-fe",
    "outputId": "6a02be6a-df84-4cee-d176-f8f902ae5634"
   },
   "outputs": [
    {
     "name": "stdout",
     "output_type": "stream",
     "text": [
      "Dado que son arreglos, el largo del elemento resultante es: 3\n"
     ]
    },
    {
     "data": {
      "text/plain": [
       "array([5, 7, 9])"
      ]
     },
     "execution_count": 41,
     "metadata": {
      "tags": []
     },
     "output_type": "execute_result"
    }
   ],
   "source": [
    "k = np.array([1,2,3])\n",
    "l = np.array([4,5,6])\n",
    "c = Mi_funcion(k,l)\n",
    "c"
   ]
  },
  {
   "cell_type": "code",
   "execution_count": 42,
   "metadata": {
    "colab": {
     "base_uri": "https://localhost:8080/",
     "height": 35
    },
    "colab_type": "code",
    "id": "kowWiTXaE-fh",
    "outputId": "2a7cb776-aafd-4479-ce16-855c5fac0164"
   },
   "outputs": [
    {
     "name": "stdout",
     "output_type": "stream",
     "text": [
      "La operacion no puede ser realizada, ya que los elementos no coinciden en su naturaleza.\n"
     ]
    }
   ],
   "source": [
    "k = np.array([1,2,3])\n",
    "l = [4,5,6]\n",
    "Mi_funcion(k,l)"
   ]
  },
  {
   "cell_type": "markdown",
   "metadata": {
    "colab_type": "text",
    "id": "M7YDNW-GE-fl"
   },
   "source": [
    "#### Operaciones con numpy"
   ]
  },
  {
   "cell_type": "code",
   "execution_count": 40,
   "metadata": {
    "colab": {
     "base_uri": "https://localhost:8080/",
     "height": 126
    },
    "colab_type": "code",
    "id": "kxCPx2FLE-fl",
    "outputId": "89646714-51c8-49e0-8e73-5e872722ea1a"
   },
   "outputs": [
    {
     "name": "stdout",
     "output_type": "stream",
     "text": [
      "Matriz A:\n",
      "[[1 2 3]\n",
      " [0 1 2]]\n",
      "\n",
      "Vector b:\n",
      "[2 3 1]\n"
     ]
    }
   ],
   "source": [
    "## Definir listas\n",
    "A = [[1,2,3], [0,1,2]]\n",
    "b = [2, 3, 1]\n",
    "\n",
    "## Conversion de listas a arreglos de numpy\n",
    "A = np.array(A)\n",
    "b = np.array(b)\n",
    "\n",
    "print('Matriz A:\\n{}'.format(A))\n",
    "print('\\nVector b:\\n{}'.format(b))"
   ]
  },
  {
   "cell_type": "code",
   "execution_count": null,
   "metadata": {
    "colab": {},
    "colab_type": "code",
    "id": "377hbGNQE-f0",
    "outputId": "f901c03d-a79b-4acd-e4d6-4f75afa6a261"
   },
   "outputs": [
    {
     "name": "stdout",
     "output_type": "stream",
     "text": [
      "Forma de la matriz A: (2, 3)\n",
      "Forma de la matriz b: (3,)\n"
     ]
    }
   ],
   "source": [
    "# forma de la matriz\n",
    "print(f'Forma de la matriz A: {A.shape}')\n",
    "print('Forma de la matriz b: {}'.format(b.shape))"
   ]
  },
  {
   "cell_type": "code",
   "execution_count": null,
   "metadata": {
    "colab": {},
    "colab_type": "code",
    "id": "WmCzHzzSE-f2",
    "outputId": "b705f2b8-2688-4be4-8277-c49bbbf576f0"
   },
   "outputs": [
    {
     "name": "stdout",
     "output_type": "stream",
     "text": [
      "Numero de filas de la matriz A: 2\n",
      "Numero de columnas de la matriz A: 3\n"
     ]
    }
   ],
   "source": [
    "# Numero de fila de una matriz\n",
    "print(f'Numero de filas de la matriz A: {A.shape[0]}')\n",
    "print(f'Numero de columnas de la matriz A: {A.shape[1]}')"
   ]
  },
  {
   "cell_type": "code",
   "execution_count": null,
   "metadata": {
    "colab": {},
    "colab_type": "code",
    "id": "HxT-nm4RE-f6",
    "outputId": "bb96841e-e436-4219-f2dd-f7e383a8c42a"
   },
   "outputs": [
    {
     "name": "stdout",
     "output_type": "stream",
     "text": [
      "Total elemento de la matriz: 6\n"
     ]
    }
   ],
   "source": [
    "# Numero de elemento de una matriz\n",
    "print('Total elemento de la matriz: {}'.format(A.size))"
   ]
  },
  {
   "cell_type": "code",
   "execution_count": null,
   "metadata": {
    "colab": {},
    "colab_type": "code",
    "id": "Gw5jhJ8jE-f8",
    "outputId": "512fc01c-4848-4f7b-84ec-f59111e111a7"
   },
   "outputs": [
    {
     "name": "stdout",
     "output_type": "stream",
     "text": [
      "Longitud del vector: 3\n"
     ]
    }
   ],
   "source": [
    "# Longitud de un vector\n",
    "print('Longitud del vector: {}'.format( len(b) ))"
   ]
  },
  {
   "cell_type": "code",
   "execution_count": null,
   "metadata": {
    "colab": {},
    "colab_type": "code",
    "id": "lySnnTQBE-f_",
    "outputId": "8733cb79-f12c-4942-f774-69dc439ba65a"
   },
   "outputs": [
    {
     "data": {
      "text/plain": [
       "array([[3, 5, 4],\n",
       "       [2, 4, 3]])"
      ]
     },
     "execution_count": 190,
     "metadata": {
      "tags": []
     },
     "output_type": "execute_result"
    }
   ],
   "source": [
    "# Operaciones punto a punto (numpy)\n",
    "A+b #Suma cada fila de la matriz A con el vector b."
   ]
  },
  {
   "cell_type": "code",
   "execution_count": null,
   "metadata": {
    "colab": {},
    "colab_type": "code",
    "id": "8bP2Smr_E-gC",
    "outputId": "f058007d-28c6-4e5b-88e4-5ec0f3e9484e"
   },
   "outputs": [
    {
     "data": {
      "text/plain": [
       "array([11,  5])"
      ]
     },
     "execution_count": 191,
     "metadata": {
      "tags": []
     },
     "output_type": "execute_result"
    }
   ],
   "source": [
    "# producto de la matriz A con el vector b\n",
    "A.dot(b)"
   ]
  },
  {
   "cell_type": "code",
   "execution_count": null,
   "metadata": {
    "colab": {},
    "colab_type": "code",
    "id": "qrQOp3yFE-gF",
    "outputId": "10153bb1-daac-42c5-8cb1-34676254fb04"
   },
   "outputs": [
    {
     "data": {
      "text/plain": [
       "3"
      ]
     },
     "execution_count": 196,
     "metadata": {
      "tags": []
     },
     "output_type": "execute_result"
    }
   ],
   "source": [
    "# Buscar el maximo de la matrix\n",
    "A.max()"
   ]
  },
  {
   "cell_type": "code",
   "execution_count": null,
   "metadata": {
    "colab": {},
    "colab_type": "code",
    "id": "QXIUG6_WE-gH",
    "outputId": "496d4a80-7748-4260-a15c-4f236f7664fa"
   },
   "outputs": [
    {
     "data": {
      "text/plain": [
       "array([1, 2, 3])"
      ]
     },
     "execution_count": 199,
     "metadata": {
      "tags": []
     },
     "output_type": "execute_result"
    }
   ],
   "source": [
    "# Buscar el maximo por columna\n",
    "A.max(axis=0)"
   ]
  },
  {
   "cell_type": "code",
   "execution_count": null,
   "metadata": {
    "colab": {},
    "colab_type": "code",
    "id": "eYZM97OQE-gK",
    "outputId": "f259ad47-9a1e-4cd0-cf81-5702969dcc37"
   },
   "outputs": [
    {
     "data": {
      "text/plain": [
       "array([3, 2])"
      ]
     },
     "execution_count": 48,
     "metadata": {
      "tags": []
     },
     "output_type": "execute_result"
    }
   ],
   "source": [
    "# Buscar el maximo por fila\n",
    "A.max(axis=1)"
   ]
  },
  {
   "cell_type": "code",
   "execution_count": null,
   "metadata": {
    "colab": {},
    "colab_type": "code",
    "id": "LHsVWIMiE-gO",
    "outputId": "d95c3f86-db85-40d0-8da8-130a68abd199",
    "scrolled": true
   },
   "outputs": [
    {
     "name": "stdout",
     "output_type": "stream",
     "text": [
      "Columna 0: [1 0]\n",
      "Columna 1: [2 1]\n",
      "Columna 2: [3 2]\n"
     ]
    }
   ],
   "source": [
    "# Llamar a todos los elementos de una columna\n",
    "for i in range(A.shape[1]):\n",
    "    print(f'Columna {i}: {A[:,i]}')"
   ]
  },
  {
   "cell_type": "code",
   "execution_count": null,
   "metadata": {
    "colab": {},
    "colab_type": "code",
    "id": "1TxYecj4E-gS",
    "outputId": "a59612c4-ef9a-4f72-9d38-926986e9710b"
   },
   "outputs": [],
   "source": [
    "# Llamar a todos los elementos de una fila\n",
    "for i in range(A.shape[0]):\n",
    "    print(f'Columna {i}: {A[i,:]}')"
   ]
  },
  {
   "cell_type": "code",
   "execution_count": null,
   "metadata": {
    "colab": {},
    "colab_type": "code",
    "id": "nIaKHyY3E-gT",
    "outputId": "b7d13a61-f020-472a-fef4-9925f5db159d"
   },
   "outputs": [
    {
     "data": {
      "text/plain": [
       "array([1, 2, 3, 0, 1, 2])"
      ]
     },
     "execution_count": 204,
     "metadata": {
      "tags": []
     },
     "output_type": "execute_result"
    }
   ],
   "source": [
    "# Convertir la matriz es un vector\n",
    "A.ravel()"
   ]
  },
  {
   "cell_type": "code",
   "execution_count": null,
   "metadata": {
    "colab": {},
    "colab_type": "code",
    "id": "s_wH2EHFE-gX",
    "outputId": "82e94ba7-9c0c-4737-957e-c553c29fcdb6"
   },
   "outputs": [
    {
     "data": {
      "text/plain": [
       "array([[1, 2],\n",
       "       [3, 0],\n",
       "       [1, 2]])"
      ]
     },
     "execution_count": 203,
     "metadata": {
      "tags": []
     },
     "output_type": "execute_result"
    }
   ],
   "source": [
    "# Redimensionar una matriz\n",
    "A.reshape((3, 2))"
   ]
  },
  {
   "cell_type": "markdown",
   "metadata": {},
   "source": [
    "### Generacion de números aleatorios\n"
   ]
  },
  {
   "cell_type": "code",
   "execution_count": 130,
   "metadata": {},
   "outputs": [
    {
     "data": {
      "text/plain": [
       "0.6141231645643385"
      ]
     },
     "execution_count": 130,
     "metadata": {},
     "output_type": "execute_result"
    }
   ],
   "source": [
    "np.random.uniform()"
   ]
  },
  {
   "cell_type": "markdown",
   "metadata": {},
   "source": [
    "#### Generación de vector con numeros aleatorios"
   ]
  },
  {
   "cell_type": "code",
   "execution_count": 131,
   "metadata": {
    "scrolled": true
   },
   "outputs": [
    {
     "data": {
      "text/plain": [
       "array([0.84545116, 0.32550748, 0.40262445, 0.21839394, 0.81378253,\n",
       "       0.62919521, 0.63791002, 0.06369707, 0.13691843, 0.5043634 ])"
      ]
     },
     "execution_count": 131,
     "metadata": {},
     "output_type": "execute_result"
    }
   ],
   "source": [
    "np.random.uniform(0,1,10)"
   ]
  },
  {
   "cell_type": "markdown",
   "metadata": {},
   "source": [
    "#### Generación de matriz con numeros aleatorios"
   ]
  },
  {
   "cell_type": "code",
   "execution_count": 143,
   "metadata": {},
   "outputs": [
    {
     "data": {
      "text/plain": [
       "array([[0.69122644, 0.98518425, 0.49387906, 0.83432927, 0.53747831,\n",
       "        0.06246169, 0.28274445, 0.24447419, 0.34026283, 0.60100833],\n",
       "       [0.82554832, 0.15769143, 0.1505801 , 0.94913856, 0.11187162,\n",
       "        0.21260167, 0.13686096, 0.11114994, 0.84675429, 0.2308813 ],\n",
       "       [0.52880016, 0.37646383, 0.54314154, 0.4234762 , 0.46806062,\n",
       "        0.20858417, 0.04188241, 0.41561072, 0.48510142, 0.7030916 ],\n",
       "       [0.18172678, 0.88329725, 0.96787315, 0.17607248, 0.65284599,\n",
       "        0.4122815 , 0.81066655, 0.50534604, 0.90090491, 0.24121649],\n",
       "       [0.55141945, 0.42289854, 0.24768599, 0.53792137, 0.94135697,\n",
       "        0.79931088, 0.6200406 , 0.29081195, 0.0306563 , 0.99509161],\n",
       "       [0.22701243, 0.37269426, 0.72417338, 0.80085475, 0.05835394,\n",
       "        0.73370128, 0.28910149, 0.36843226, 0.22703854, 0.92408875],\n",
       "       [0.09067213, 0.77653695, 0.31254553, 0.18317149, 0.99158412,\n",
       "        0.47144365, 0.98747089, 0.8123165 , 0.32186573, 0.90215289],\n",
       "       [0.46049666, 0.91065728, 0.56409794, 0.98393533, 0.71564241,\n",
       "        0.60212978, 0.01128231, 0.36193288, 0.18166347, 0.61171212],\n",
       "       [0.37930127, 0.376181  , 0.56269045, 0.6341836 , 0.04655605,\n",
       "        0.68347072, 0.20700078, 0.65960757, 0.50963575, 0.79510741],\n",
       "       [0.27080035, 0.86490301, 0.77287537, 0.88180159, 0.78720196,\n",
       "        0.64852291, 0.12460984, 0.4999821 , 0.65796629, 0.08232917]])"
      ]
     },
     "execution_count": 143,
     "metadata": {},
     "output_type": "execute_result"
    }
   ],
   "source": [
    "np.random.uniform(0,1,(10,10))\n",
    "#from tabulate import tabulate\n",
    "#print(tabulate(np.random.uniform(0,1,(10,10))))"
   ]
  },
  {
   "cell_type": "markdown",
   "metadata": {},
   "source": [
    "### Generar una matriz de 0"
   ]
  },
  {
   "cell_type": "code",
   "execution_count": 142,
   "metadata": {
    "scrolled": true
   },
   "outputs": [
    {
     "data": {
      "text/plain": [
       "array([[0., 0., 0., 0., 0.],\n",
       "       [0., 0., 0., 0., 0.],\n",
       "       [0., 0., 0., 0., 0.],\n",
       "       [0., 0., 0., 0., 0.],\n",
       "       [0., 0., 0., 0., 0.]])"
      ]
     },
     "execution_count": 142,
     "metadata": {},
     "output_type": "execute_result"
    }
   ],
   "source": [
    "np.zeros((5,5))"
   ]
  }
 ],
 "metadata": {
  "colab": {
   "name": "01 - IntroPython.ipynb",
   "provenance": []
  },
  "kernelspec": {
   "display_name": "Python 3",
   "language": "python",
   "name": "python3"
  },
  "language_info": {
   "codemirror_mode": {
    "name": "ipython",
    "version": 3
   },
   "file_extension": ".py",
   "mimetype": "text/x-python",
   "name": "python",
   "nbconvert_exporter": "python",
   "pygments_lexer": "ipython3",
   "version": "3.8.5"
  }
 },
 "nbformat": 4,
 "nbformat_minor": 1
}
