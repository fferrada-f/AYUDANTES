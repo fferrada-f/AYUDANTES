{
 "cells": [
  {
   "cell_type": "markdown",
   "metadata": {},
   "source": [
    "<img src ='Cruzroja.png'>"
   ]
  },
  {
   "cell_type": "code",
   "execution_count": 48,
   "metadata": {},
   "outputs": [],
   "source": [
    "import numpy as np\n",
    "import pandas as pd #Lectura de planilla\n",
    "from tabulate import tabulate ##Solo para visualización"
   ]
  },
  {
   "cell_type": "code",
   "execution_count": 53,
   "metadata": {},
   "outputs": [],
   "source": [
    "INFO = pd.read_excel('Cruzroja.xlsx')\n"
   ]
  },
  {
   "cell_type": "code",
   "execution_count": 51,
   "metadata": {},
   "outputs": [],
   "source": [
    "#Creando las variables\n",
    "x = list(i for i in range(6)) #[0,1,2,3,4,5]\n",
    "s = list(INFO['Equipos'])\n",
    "Vidas = np.array(list([INFO['Pais 1'],INFO['Pais 2'],INFO['Pais 3']])) #Alternativa: [[0,45,70,90,105,120],[0,20,45,75,110,150],[0,50,70,80,100,130]]\n",
    "Etapas = [0,1,2]\n",
    "DATA = []\n",
    "for i in reversed(Etapas):\n",
    "    fd = np.zeros((len(s),len(x)+2))\n",
    "    for j in range(len(s)):\n",
    "        for k in range(len(x)):\n",
    "            if x[k]<=s[j]:\n",
    "                if i ==2:\n",
    "                    fd[j,k] = Vidas[i,k]\n",
    "                else:\n",
    "                    fd[j,k] = Vidas[i,k]+DATA[0][s.index(s[j]-x[k]),len(x)]\n",
    "                if fd[j,k]>fd[j,len(x)]:\n",
    "                    fd[j,len(x)] = fd[j,k]\n",
    "                    fd[j,len(x)+1] = x[k]\n",
    "                \n",
    "    DATA.insert(0,fd)\n",
    "    "
   ]
  },
  {
   "cell_type": "code",
   "execution_count": 52,
   "metadata": {},
   "outputs": [
    {
     "name": "stdout",
     "output_type": "stream",
     "text": [
      "Etapa: 1\n",
      "        1    2    3    4    5    Fx*    x*\n",
      "---  ---  ---  ---  ---  ---  -----  ----\n",
      "  0    0    0    0    0    0      0     0\n",
      " 50   45    0    0    0    0     50     0\n",
      " 70   95   70    0    0    0     95     1\n",
      " 95  115  120   90    0    0    120     2\n",
      "125  140  140  140  105    0    140     1\n",
      "160  170  165  160  155  120    170     1 \n",
      "\n",
      "\n",
      "Etapa: 2\n",
      "        1    2    3    4    5    Fx*    x*\n",
      "---  ---  ---  ---  ---  ---  -----  ----\n",
      "  0    0    0    0    0    0      0     0\n",
      " 50   20    0    0    0    0     50     0\n",
      " 70   70   45    0    0    0     70     0\n",
      " 80   90   95   75    0    0     95     2\n",
      "100  100  115  125  110    0    125     3\n",
      "130  120  125  145  160  150    160     4 \n",
      "\n",
      "\n",
      "Etapa: 3\n",
      "       1    2    3    4    5    Fx*    x*\n",
      "--  ---  ---  ---  ---  ---  -----  ----\n",
      " 0    0    0    0    0    0      0     0\n",
      " 0   50    0    0    0    0     50     1\n",
      " 0   50   70    0    0    0     70     2\n",
      " 0   50   70   80    0    0     80     3\n",
      " 0   50   70   80  100    0    100     4\n",
      " 0   50   70   80  100  130    130     5 \n",
      "\n",
      "\n"
     ]
    }
   ],
   "source": [
    "for i,e in zip(DATA,[1,2,3]):\n",
    "    print(f'Etapa: {e}\\n',tabulate(i, headers = [1,2,3,4,5,'Fx*','x*']),'\\n\\n')"
   ]
  }
 ],
 "metadata": {
  "kernelspec": {
   "display_name": "Python 3",
   "language": "python",
   "name": "python3"
  },
  "language_info": {
   "codemirror_mode": {
    "name": "ipython",
    "version": 3
   },
   "file_extension": ".py",
   "mimetype": "text/x-python",
   "name": "python",
   "nbconvert_exporter": "python",
   "pygments_lexer": "ipython3",
   "version": "3.8.5"
  }
 },
 "nbformat": 4,
 "nbformat_minor": 4
}
