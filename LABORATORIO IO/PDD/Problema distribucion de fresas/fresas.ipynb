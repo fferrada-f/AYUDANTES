{
 "cells": [
  {
   "cell_type": "markdown",
   "metadata": {},
   "source": [
    "## Problema distribución de fresas"
   ]
  },
  {
   "cell_type": "markdown",
   "metadata": {},
   "source": [
    "<img src=\"ProblemaDistribucionFresas.jpeg\">"
   ]
  },
  {
   "cell_type": "markdown",
   "metadata": {},
   "source": [
    "### Importación de librerías\n",
    "Para la resolución de este problema necesitaremos importar numpy, pandas, y tabulate para el calculo y visualizacion de los resultados obtenidos"
   ]
  },
  {
   "cell_type": "code",
   "execution_count": 2,
   "metadata": {},
   "outputs": [],
   "source": [
    "# Importacion de librerias\n",
    "import numpy as np\n",
    "import pandas as pd\n",
    "from tabulate import tabulate #tabulate es utilizado para poder imprimir las tablas"
   ]
  },
  {
   "cell_type": "markdown",
   "metadata": {},
   "source": [
    "### Visualización de los datos\n",
    "Para la visualizacion e importacion de los datos adjuntos en la planilla, necesitamos la función read_excel() que viene al interior de pandas. Ahora la variable 'File' almacenará un dataset de los datos."
   ]
  },
  {
   "cell_type": "code",
   "execution_count": 4,
   "metadata": {
    "scrolled": true
   },
   "outputs": [
    {
     "data": {
      "text/html": [
       "<div>\n",
       "<style scoped>\n",
       "    .dataframe tbody tr th:only-of-type {\n",
       "        vertical-align: middle;\n",
       "    }\n",
       "\n",
       "    .dataframe tbody tr th {\n",
       "        vertical-align: top;\n",
       "    }\n",
       "\n",
       "    .dataframe thead th {\n",
       "        text-align: right;\n",
       "    }\n",
       "</style>\n",
       "<table border=\"1\" class=\"dataframe\">\n",
       "  <thead>\n",
       "    <tr style=\"text-align: right;\">\n",
       "      <th></th>\n",
       "      <th>Cargas</th>\n",
       "      <th>Tienda 1</th>\n",
       "      <th>Tienda 2</th>\n",
       "      <th>Tienda 3</th>\n",
       "    </tr>\n",
       "  </thead>\n",
       "  <tbody>\n",
       "    <tr>\n",
       "      <th>0</th>\n",
       "      <td>0</td>\n",
       "      <td>0</td>\n",
       "      <td>0</td>\n",
       "      <td>0</td>\n",
       "    </tr>\n",
       "    <tr>\n",
       "      <th>1</th>\n",
       "      <td>1</td>\n",
       "      <td>5</td>\n",
       "      <td>6</td>\n",
       "      <td>4</td>\n",
       "    </tr>\n",
       "    <tr>\n",
       "      <th>2</th>\n",
       "      <td>2</td>\n",
       "      <td>9</td>\n",
       "      <td>11</td>\n",
       "      <td>9</td>\n",
       "    </tr>\n",
       "    <tr>\n",
       "      <th>3</th>\n",
       "      <td>3</td>\n",
       "      <td>14</td>\n",
       "      <td>15</td>\n",
       "      <td>13</td>\n",
       "    </tr>\n",
       "    <tr>\n",
       "      <th>4</th>\n",
       "      <td>4</td>\n",
       "      <td>17</td>\n",
       "      <td>19</td>\n",
       "      <td>18</td>\n",
       "    </tr>\n",
       "    <tr>\n",
       "      <th>5</th>\n",
       "      <td>5</td>\n",
       "      <td>21</td>\n",
       "      <td>22</td>\n",
       "      <td>20</td>\n",
       "    </tr>\n",
       "  </tbody>\n",
       "</table>\n",
       "</div>"
      ],
      "text/plain": [
       "   Cargas  Tienda 1  Tienda 2  Tienda 3\n",
       "0       0         0         0         0\n",
       "1       1         5         6         4\n",
       "2       2         9        11         9\n",
       "3       3        14        15        13\n",
       "4       4        17        19        18\n",
       "5       5        21        22        20"
      ]
     },
     "execution_count": 4,
     "metadata": {},
     "output_type": "execute_result"
    }
   ],
   "source": [
    "File = pd.read_excel('Fresas_datos.xlsx')\n",
    "File"
   ]
  },
  {
   "cell_type": "markdown",
   "metadata": {},
   "source": [
    "### Almacenamiento de los datos en una matriz"
   ]
  },
  {
   "cell_type": "code",
   "execution_count": 48,
   "metadata": {},
   "outputs": [],
   "source": [
    "Tienda = ['Tienda 1','Tienda 2', 'Tienda 3']\n",
    "Datos = []\n",
    "for i in Tienda:\n",
    "    Datos.append(list(File[i]))\n",
    "Datos = np.array(Datos)"
   ]
  },
  {
   "cell_type": "markdown",
   "metadata": {},
   "source": [
    "### Desarrollo del código:\n",
    "Inicialmente tenemos que asignar las variables en donde declaramos el número de etapas, posibles valores de inventario s, posibles valores de la variable de decisión x y una variable que sea capaz de almacenar las tablas en donde se desarrollan los cálculos."
   ]
  },
  {
   "cell_type": "code",
   "execution_count": 49,
   "metadata": {},
   "outputs": [],
   "source": [
    "Etapas = [1,2,3]\n",
    "s = list(File['Cargas'])\n",
    "x = [0,1,2,3,4,5]\n",
    "DATA=[]"
   ]
  },
  {
   "cell_type": "markdown",
   "metadata": {},
   "source": [
    "A continuación desarrollamos las iteraciones de las tablas para cada etapa, y calculamos el posible ingreso para todo x  y s en donde x >= s. \n",
    "Cabe destacar que la función reversed es para poder desarrollar los valores de i desde el más alto al más bajo.\n",
    "\n",
    "Finalmente la última linea de esta celda es para indexar en el primer elemento de DATA, toda la matriz de iteraciones realizada en cada etapa."
   ]
  },
  {
   "cell_type": "code",
   "execution_count": null,
   "metadata": {},
   "outputs": [],
   "source": [
    "for i in reversed(range(len(Etapas))):\n",
    "    ITER = np.zeros((len(s),len(x)+2))\n",
    "    for j in range(len(s)):\n",
    "        for k in range(len(x)):\n",
    "            if s[j]>=x[k]:\n",
    "                if i == len(Etapas)-1:\n",
    "                    ITER[j,k] = Datos[i,k]\n",
    "                else: \n",
    "                    ITER[j,k] = Datos[i,k] + DATA[0][s.index(s[j]-x[k]),ITER.shape[1]-2]\n",
    "            if ITER[j,k]>ITER[j,ITER.shape[1]-2]:\n",
    "                ITER[j,ITER.shape[1]-2] = ITER[j,k]\n",
    "                ITER[j,ITER.shape[1]-1] = x[k]\n",
    "    DATA.insert(0,ITER)"
   ]
  },
  {
   "cell_type": "markdown",
   "metadata": {},
   "source": [
    "### Visualización de resultados:\n",
    "Para la visualización de los resultados, guardamos la última (mejores decisiones [x *]) y penúltima (mejores resultados [Fx *]) columna de la matriz de iteraciones de cada etapa en dos respectivas matrices."
   ]
  },
  {
   "cell_type": "code",
   "execution_count": 50,
   "metadata": {
    "scrolled": false
   },
   "outputs": [
    {
     "name": "stdout",
     "output_type": "stream",
     "text": [
      "Matriz de iteraciones para la etapa: 1: \n",
      "   0    1    2    3    4    5    Fx    x\n",
      "---  ---  ---  ---  ---  ---  ----  ---\n",
      "  0    0    0    0    0    0     0    0\n",
      "  6    5    0    0    0    0     6    0\n",
      " 11   11    9    0    0    0    11    0\n",
      " 15   16   15   14    0    0    16    1\n",
      " 20   20   20   20   17    0    20    0\n",
      " 24   25   24   25   23   21    25    1 \n",
      "\n",
      "\n",
      "Matriz de iteraciones para la etapa: 2: \n",
      "   0    1    2    3    4    5    Fx    x\n",
      "---  ---  ---  ---  ---  ---  ----  ---\n",
      "  0    0    0    0    0    0     0    0\n",
      "  4    6    0    0    0    0     6    1\n",
      "  9   10   11    0    0    0    11    2\n",
      " 13   15   15   15    0    0    15    1\n",
      " 18   19   20   19   19    0    20    2\n",
      " 20   24   24   24   23   22    24    1 \n",
      "\n",
      "\n",
      "Matriz de iteraciones para la etapa: 3: \n",
      "   0    1    2    3    4    5    Fx    x\n",
      "---  ---  ---  ---  ---  ---  ----  ---\n",
      "  0    0    0    0    0    0     0    0\n",
      "  0    4    0    0    0    0     4    1\n",
      "  0    4    9    0    0    0     9    2\n",
      "  0    4    9   13    0    0    13    3\n",
      "  0    4    9   13   18    0    18    4\n",
      "  0    4    9   13   18   20    20    5 \n",
      "\n",
      "\n",
      "Resultados: \n",
      "   0    1    2    3    4    5\n",
      "---  ---  ---  ---  ---  ---\n",
      "  0    6   11   16   20   25\n",
      "  0    6   11   15   20   24\n",
      "  0    4    9   13   18   20\n",
      "Decisiones: \n",
      "   0    1    2    3    4    5\n",
      "---  ---  ---  ---  ---  ---\n",
      "  0    0    0    1    0    1\n",
      "  0    1    2    1    2    1\n",
      "  0    1    2    3    4    5\n"
     ]
    }
   ],
   "source": [
    "decisiones = []\n",
    "resultados = []\n",
    "head = list(p for p in x)\n",
    "head.append('Fx')\n",
    "head.append('x')\n",
    "\n",
    "for i in range(len(Etapas)):\n",
    "    print(f'Matriz de iteraciones para la etapa: {i+1}: \\n',tabulate(DATA[i], headers = head),'\\n\\n')\n",
    "    resultados.append(DATA[i][:,DATA[i].shape[1]-2])\n",
    "    decisiones.append(int(d) for d in (DATA[i][:,DATA[i].shape[1]-1]))\n",
    "print('Resultados: \\n',tabulate(resultados, headers= (head for head in s)))\n",
    "print('Decisiones: \\n',tabulate(decisiones, headers= (head for head in x)))"
   ]
  },
  {
   "cell_type": "markdown",
   "metadata": {},
   "source": [
    "### Interpretación de los resultados:\n",
    "Si miramos la matriz 'Resultados', tenemos que tomar en cuenta la columna que representa el tener toda la capacidad (sexta columna) y la fila de la primera etapa, ya que esta etapa acumula los mejores resultados de las etapas posteriores.\n",
    "\n",
    "Ahora tomamos la matriz de 'Decisiones', en la cual los valores indexados representan una decision (valor de x), las columnas representan la capacidad disponible y las filas las etapas. Dado esto, vemos que para la primera etapa (Primera fila), como disponemos de la totalidad de la capacidad, nos dirijimos a la s=5 (Sexta columna) en donde podemos ver que tenemos un numero 1 indexado.\n",
    "Para la fila 1 (Etapa 2), como ocupamos 1 en la etapa anterior sabemos que disponemos de una capacidad de 5-1 =4, es por esto que nos dirijimos a la quinta columna (s =4) y visualizamos un 2 indexado.\n",
    "Para la fila 2 (Etapa 3), como ocupamos 2 en la etapa anterior, sabemos que disponemos de 2 de capacidad (5-1-2=2) por lo que nos dirijimos a la tercera columna (s=2) en donde vemos que se encuentra un 2 indexado.\n",
    "\n",
    "Resultado:\n",
    "\n",
    "Maxima ganancia: 25\n",
    "\n",
    "Asignaciones:\n",
    "\n",
    "1 en Tienda 1\n",
    "\n",
    "2 en Tienda 2\n",
    "\n",
    "2 en Tienda 2"
   ]
  }
 ],
 "metadata": {
  "kernelspec": {
   "display_name": "Python 3",
   "language": "python",
   "name": "python3"
  },
  "language_info": {
   "codemirror_mode": {
    "name": "ipython",
    "version": 3
   },
   "file_extension": ".py",
   "mimetype": "text/x-python",
   "name": "python",
   "nbconvert_exporter": "python",
   "pygments_lexer": "ipython3",
   "version": "3.8.5"
  }
 },
 "nbformat": 4,
 "nbformat_minor": 4
}
