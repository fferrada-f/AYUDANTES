{
 "cells": [
  {
   "cell_type": "markdown",
   "metadata": {},
   "source": [
    "<img src = 'Botellas.png'>"
   ]
  },
  {
   "cell_type": "code",
   "execution_count": 1,
   "metadata": {},
   "outputs": [],
   "source": [
    "import numpy as np\n",
    "from tabulate import tabulate"
   ]
  },
  {
   "cell_type": "code",
   "execution_count": 3,
   "metadata": {},
   "outputs": [],
   "source": [
    "Etapas = [1,2,3]\n",
    "p1 = 1000\n",
    "p2 = 2000\n",
    "limbot = 3\n",
    "Demanda = [1,2,3]\n",
    "Pdda = np.array([0.2,0.5,0.3])\n",
    "s = [0,1,2,3]\n",
    "x = [0,1,2,3]\n"
   ]
  },
  {
   "cell_type": "code",
   "execution_count": 4,
   "metadata": {},
   "outputs": [
    {
     "name": "stdout",
     "output_type": "stream",
     "text": [
      "Etapa:  1 \n",
      "       0          1          2          3      Fx*    x*\n",
      "-------  ---------  ---------  ---------  -------  ----\n",
      "-4198    -3198      -2598.2    -2998.9    -2598.2     2\n",
      "-2198    -1598.2    -1998.9       -1e+06  -1598.2     1\n",
      " -598.2   -998.9       -1e+06     -1e+06   -598.2     0\n",
      "    1.1     -1e+06     -1e+06     -1e+06      1.1     0\n",
      "Etapa:  2 \n",
      "     0          1          2          3    Fx*    x*\n",
      "-----  ---------  ---------  ---------  -----  ----\n",
      "-4200  -3200      -2600      -3000      -2600     2\n",
      "-2200  -1600      -2000         -1e+06  -1600     1\n",
      " -600  -1000         -1e+06     -1e+06   -600     0\n",
      "    0     -1e+06     -1e+06     -1e+06      0     0\n",
      "Etapa:  3 \n",
      "     0          1          2          3    Fx*    x*\n",
      "-----  ---------  ---------  ---------  -----  ----\n",
      "-4200  -5200      -6200      -7200      -4200     0\n",
      " -600  -1600      -2600         -1e+06   -600     0\n",
      "    0  -1000         -1e+06     -1e+06      0     0\n",
      "    0     -1e+06     -1e+06     -1e+06      0     0\n"
     ]
    }
   ],
   "source": [
    "DATA= []\n",
    "for i in reversed(range(len(Etapas))):\n",
    "    ITER = np.ones((len(s), len(x)+2))*-1000000\n",
    "    for j in range(len(s)):\n",
    "        for k in range(len(x)):\n",
    "            casos = []\n",
    "            if x[k]+s[j]<=limbot:\n",
    "                for d in Demanda:\n",
    "                    if i ==Etapas.index(3):\n",
    "                        casos.append(-p1*x[k]+min(s[j]+x[j]-d,0)*p2)\n",
    "                    else: \n",
    "                        casos.append(-p1*x[k]+min(s[j]+x[k]-d,0)*p2+DATA[0][s.index(max(s[j]+x[k]-d,0)),len(x)+1])\n",
    "                ITER[j,k] = np.array(casos)@Pdda\n",
    "                if ITER[j,k]>ITER[j,len(x)]:\n",
    "                    ITER[j,len(x)]=ITER[j,k]\n",
    "                    ITER[j,len(x)+1]=x[k]\n",
    "    DATA.insert(0,ITER)\n",
    "for i in Etapas:\n",
    "    print('Etapa: ',i,'\\n',tabulate(DATA[i-1],headers = [0,1,2,3,'Fx*','x*']))"
   ]
  }
 ],
 "metadata": {
  "kernelspec": {
   "display_name": "Python 3",
   "language": "python",
   "name": "python3"
  },
  "language_info": {
   "codemirror_mode": {
    "name": "ipython",
    "version": 3
   },
   "file_extension": ".py",
   "mimetype": "text/x-python",
   "name": "python",
   "nbconvert_exporter": "python",
   "pygments_lexer": "ipython3",
   "version": "3.8.5"
  }
 },
 "nbformat": 4,
 "nbformat_minor": 4
}
