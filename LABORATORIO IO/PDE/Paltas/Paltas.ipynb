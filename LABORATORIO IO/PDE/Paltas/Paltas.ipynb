{
 "cells": [
  {
   "cell_type": "markdown",
   "metadata": {},
   "source": [
    "<img src = 'paltas1.png'>\n",
    "<img src = 'paltas2.png'>\n",
    "<img src = 'paltas3.png'>"
   ]
  },
  {
   "cell_type": "markdown",
   "metadata": {},
   "source": [
    "### Importación de librerías"
   ]
  },
  {
   "cell_type": "code",
   "execution_count": 2,
   "metadata": {},
   "outputs": [],
   "source": [
    "import numpy as np\n",
    "import pandas as pd\n",
    "import tabulate"
   ]
  },
  {
   "cell_type": "markdown",
   "metadata": {},
   "source": [
    "### Importación de datos desde planilla"
   ]
  },
  {
   "cell_type": "code",
   "execution_count": 15,
   "metadata": {},
   "outputs": [],
   "source": [
    "Dataset = pd.read_excel('paltas.xlsx')"
   ]
  },
  {
   "cell_type": "markdown",
   "metadata": {},
   "source": [
    "### Generación de variables"
   ]
  },
  {
   "cell_type": "code",
   "execution_count": 67,
   "metadata": {},
   "outputs": [],
   "source": [
    "Paltas = {'Verdes':{\n",
    "    'Precio': 3000,\n",
    "    'Dda':[50,100],\n",
    "    'Prob':np.array([0.4,0.6])},\n",
    "         'Maduras':{\n",
    "    'Precio': 4000,\n",
    "    'Dda':[50,100],\n",
    "    'Prob':np.array([0.5,0.5])}}\n",
    "Etapas = [1,2,3]\n",
    "Precio_compra = list(Dataset['Precio'])\n",
    "Precio_compra.insert(0,0)\n",
    "x = list(Dataset['x'])\n",
    "x.insert(0,0)\n",
    "s = [0,50,100,150]"
   ]
  },
  {
   "cell_type": "code",
   "execution_count": 77,
   "metadata": {},
   "outputs": [],
   "source": [
    "for i in reversed(range(len(Etapas))):\n",
    "    Iter = np.zeros((len(s),len(x)+2))\n",
    "    for j in range(len(s)):\n",
    "        for k in range(len(x)):\n",
    "            if i == 2: v = {'Verdes' : x[k],'Maduras': 100}\n",
    "            else: v = {'Verdes' : x[k],'Maduras': s[]}\n",
    "            casos = {}\n",
    "            for p in ['Verdes','Maduras']:\n",
    "                if p=='Maduras': \n",
    "                    c =np.array(list(min(v[p]-i,0)*2000 for i in Paltas[p]['Dda']))@Paltas[p]['Prob']\n",
    "                else: c = 0\n",
    "                casos[p] = (Paltas[p]['Precio']*np.array(list(max(i,v[p]) for i in Paltas[p]['Dda'])))@Paltas[p]['Prob']+c\n",
    "                "
   ]
  },
  {
   "cell_type": "code",
   "execution_count": 78,
   "metadata": {},
   "outputs": [
    {
     "data": {
      "text/plain": [
       "{'Verdes': 600000.0, 'Maduras': 400000.0}"
      ]
     },
     "execution_count": 78,
     "metadata": {},
     "output_type": "execute_result"
    }
   ],
   "source": [
    "casos"
   ]
  }
 ],
 "metadata": {
  "kernelspec": {
   "display_name": "Python 3",
   "language": "python",
   "name": "python3"
  },
  "language_info": {
   "codemirror_mode": {
    "name": "ipython",
    "version": 3
   },
   "file_extension": ".py",
   "mimetype": "text/x-python",
   "name": "python",
   "nbconvert_exporter": "python",
   "pygments_lexer": "ipython3",
   "version": "3.8.5"
  }
 },
 "nbformat": 4,
 "nbformat_minor": 4
}
